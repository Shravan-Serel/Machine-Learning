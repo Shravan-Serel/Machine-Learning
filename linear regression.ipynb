{
 "cells": [
  {
   "cell_type": "code",
   "execution_count": null,
   "id": "8840e01d-7497-48dc-8400-02faf1cd74e5",
   "metadata": {},
   "outputs": [],
   "source": [
    "import numpy as np\n",
    "import pandas as pd\n",
    "import matplotlib.pyplot as plt"
   ]
  },
  {
   "cell_type": "code",
   "execution_count": null,
   "id": "adb11492-5768-4852-9c17-acf25259ed6c",
   "metadata": {},
   "outputs": [],
   "source": [
    "# dataset = {\n",
    "#     'Experience (Years)': [1, 2, 3, 4, 5, 6, 7, 8],\n",
    "#     'Salary ($)': [40000, 42500, 45000, 47500, 50000, 52500, 55000, 57500]\n",
    "# }\n",
    "\n",
    "# df = pd.DataFrame(dataset)\n",
    "\n",
    "# df.to_csv(\"Linear_regression_eg_dataset\", index = False)"
   ]
  },
  {
   "cell_type": "code",
   "execution_count": null,
   "id": "7ac09960-c896-4547-ae84-269a3b923a9a",
   "metadata": {},
   "outputs": [],
   "source": [
    "df = pd.read_csv(\"Linear_regression_eg_dataset\")\n",
    "print(df)"
   ]
  },
  {
   "cell_type": "code",
   "execution_count": null,
   "id": "3ed96da4-0285-4dc0-981a-4af68f09b4ad",
   "metadata": {},
   "outputs": [],
   "source": [
    "X_train = np.array(df['Experience (Years)'])\n",
    "y_train = np.array(df['Salary ($)'])"
   ]
  },
  {
   "cell_type": "code",
   "execution_count": null,
   "id": "e25a260c-2d64-4f08-bbac-fc6c2919fbc4",
   "metadata": {},
   "outputs": [],
   "source": [
    "def compute_cost(X,y,w,b):\n",
    "    m = X.shape[0]\n",
    "\n",
    "    cost_sum = 0\n",
    "    for i in range(m):\n",
    "        f_wb_i = w * X[i] + b\n",
    "        cost = (f_wb_i - y[i])**2\n",
    "        cost_sum = cost_sum + cost\n",
    "    cost_final = cost_sum/(2*m)\n",
    "\n",
    "    return cost_final"
   ]
  },
  {
   "cell_type": "code",
   "execution_count": null,
   "id": "6e1b192c-8278-4c67-95e7-3f00ccd0b6c1",
   "metadata": {},
   "outputs": [],
   "source": [
    "def compute_gradient(X,y,w,b):\n",
    "    dj_dw = 0\n",
    "    dj_db = 0\n",
    "    m = X.shape[0]\n",
    "\n",
    "    for i in range(m):\n",
    "        f_wb_i = w * X[i] + b\n",
    "        dj_dw_i = (f_wb_i - y[i]) * X[i]\n",
    "        dj_db_i = f_wb_i - y[i]\n",
    "        dj_dw = dj_dw + dj_dw_i\n",
    "        dj_db = dj_db + dj_db_i\n",
    "    dj_dw = dj_dw/m\n",
    "    dj_db = dj_db/m\n",
    "\n",
    "    return dj_dw,dj_db"
   ]
  },
  {
   "cell_type": "code",
   "execution_count": null,
   "id": "be51ff64-1a0f-4579-8673-605158948f50",
   "metadata": {},
   "outputs": [],
   "source": [
    "def gradient_descent(X,y,w_in,b_in,alpha,epochs,cost_function,gradient_function):\n",
    "    J_history = [] #to record changing values of cost\n",
    "    p_history = [] #to record values of w and b\n",
    "    w = w_in\n",
    "    b = b_in\n",
    "\n",
    "    for i in range(epochs):\n",
    "        dj_dw,dj_db = gradient_function(X,y,w,b)\n",
    "        w = w - alpha * dj_dw\n",
    "        b = b - alpha * dj_db\n",
    "\n",
    "        if i<100000:      # prevent resource exhaustion \n",
    "            J_history.append(cost_function(X, y, w , b))\n",
    "            p_history.append([w,b])\n",
    "\n",
    "    return w,b,J_history,p_history"
   ]
  },
  {
   "cell_type": "code",
   "execution_count": null,
   "id": "27855ef5-b87c-49bb-8269-1de1489d3761",
   "metadata": {},
   "outputs": [],
   "source": [
    "w_init = 0\n",
    "b_init = 0\n",
    "epochs = 10000\n",
    "alpha = 0.001\n",
    "w_final,b_final,J_hist,p_hist = gradient_descent(X_train,y_train,w_init,b_init,alpha,epochs,compute_cost,compute_gradient)\n",
    "\n",
    "print(f\"Final w: {w_final} | Final b: {b_final}\")\n",
    "\n",
    "plt.plot(J_hist)\n",
    "plt.xlabel('Epoch')\n",
    "plt.ylabel('Cost')\n",
    "plt.title('Cost function history')\n",
    "plt.show()\n",
    "\n",
    "plt.scatter(X_train, y_train, color='blue', label='Actual data')\n",
    "plt.plot(X_train, w_final * X_train + b_final, color='red', linewidth=2, label='Regression line')\n",
    "plt.xlabel('Years of Experience')\n",
    "plt.ylabel('Salary ($)')\n",
    "plt.legend()\n",
    "plt.show()"
   ]
  }
 ],
 "metadata": {
  "kernelspec": {
   "display_name": "Python 3 (ipykernel)",
   "language": "python",
   "name": "python3"
  },
  "language_info": {
   "codemirror_mode": {
    "name": "ipython",
    "version": 3
   },
   "file_extension": ".py",
   "mimetype": "text/x-python",
   "name": "python",
   "nbconvert_exporter": "python",
   "pygments_lexer": "ipython3",
   "version": "3.11.7"
  }
 },
 "nbformat": 4,
 "nbformat_minor": 5
}
