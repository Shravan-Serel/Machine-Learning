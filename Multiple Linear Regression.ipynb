{
 "cells": [
  {
   "cell_type": "code",
   "execution_count": 18,
   "id": "fbf9c035-f8d8-4226-b311-0731b2a1a19f",
   "metadata": {},
   "outputs": [],
   "source": [
    "import numpy as np\n",
    "import copy, math\n",
    "np.set_printoptions(precision=2)"
   ]
  },
  {
   "cell_type": "markdown",
   "id": "1a4e9301-fc80-4ae5-98b2-31d5a521ce6d",
   "metadata": {},
   "source": [
    "## 1. Calculating predictions (y(hat))"
   ]
  },
  {
   "cell_type": "code",
   "execution_count": 4,
   "id": "7be22ecc-09bb-4764-a99b-721eda766a8e",
   "metadata": {},
   "outputs": [
    {
     "name": "stdout",
     "output_type": "stream",
     "text": [
      "[[2104    5    1   45]\n",
      " [1416    3    2   40]\n",
      " [ 852    2    1   35]]\n",
      "[460 232 178]\n"
     ]
    }
   ],
   "source": [
    "X_train = np.array([[2104, 5, 1, 45], [1416, 3, 2, 40], [852, 2, 1, 35]])\n",
    "y_train = np.array([460, 232, 178])\n",
    "print(X_train)\n",
    "print(y_train)"
   ]
  },
  {
   "cell_type": "code",
   "execution_count": 6,
   "id": "aacc6de8-22a9-435f-9a6c-c5df1d1cf41d",
   "metadata": {},
   "outputs": [],
   "source": [
    "b_init = 785.1811367994083\n",
    "w_init = np.array([ 0.39133535, 18.75376741, -53.36032453, -26.42131618])"
   ]
  },
  {
   "cell_type": "code",
   "execution_count": 7,
   "id": "78b2b46f-24a2-4728-8f6d-c6c0e4952443",
   "metadata": {},
   "outputs": [],
   "source": [
    "# def predict_single_loop(x,w,b):\n",
    "#     n = x.shape[0]\n",
    "#     p = 0\n",
    "#     for i in range(n):\n",
    "#         p_i = x[i] * w[i]\n",
    "#         p = p + p_i\n",
    "#     p = p + b\n",
    "#     return p"
   ]
  },
  {
   "cell_type": "code",
   "execution_count": 13,
   "id": "d1ff3155-74e8-4818-8127-bd214af09b66",
   "metadata": {},
   "outputs": [
    {
     "name": "stdout",
     "output_type": "stream",
     "text": [
      "459.9999976194083\n"
     ]
    }
   ],
   "source": [
    "# x1 = X_train[0]\n",
    "# y1 = predict_single_loop(x1,w_init,b_init)\n",
    "# print(y1)"
   ]
  },
  {
   "cell_type": "code",
   "execution_count": 14,
   "id": "345af12d-1464-48b9-9bb5-de1f9e85707c",
   "metadata": {},
   "outputs": [],
   "source": [
    "def predict(x,w,b):\n",
    "    p = np.dot(x,w) + b\n",
    "    return p"
   ]
  },
  {
   "cell_type": "code",
   "execution_count": 16,
   "id": "2b6da314-22a6-4a4c-95d3-bcd5367b5fbb",
   "metadata": {},
   "outputs": [
    {
     "name": "stdout",
     "output_type": "stream",
     "text": [
      "459.9999976194082\n"
     ]
    }
   ],
   "source": [
    "x1 = X_train[0]\n",
    "y1 = predict(x1,w_init,b_init)\n",
    "print(y1)"
   ]
  },
  {
   "cell_type": "markdown",
   "id": "b3b9162d-d4c3-4b9e-b8ae-f4b83fda834a",
   "metadata": {},
   "source": [
    "## Calculating cost (J(w,b))"
   ]
  },
  {
   "cell_type": "code",
   "execution_count": 28,
   "id": "ad81514a-190c-47ea-9a6f-849d11a6c44f",
   "metadata": {},
   "outputs": [],
   "source": [
    "def compute_cost(x,y,w,b):\n",
    "    m = x.shape[0]\n",
    "    cost = 0\n",
    "    for i in range(m):\n",
    "        f_wb_i = np.dot(x[i],w) + b\n",
    "        cost = cost + (f_wb_i - y[i])**2\n",
    "    cost = cost/(2*m)\n",
    "    return cost"
   ]
  },
  {
   "cell_type": "code",
   "execution_count": 29,
   "id": "2aa8d568-c234-4278-be74-6a90bc76c720",
   "metadata": {},
   "outputs": [
    {
     "data": {
      "text/plain": [
       "1.5578904330213735e-12"
      ]
     },
     "execution_count": 29,
     "metadata": {},
     "output_type": "execute_result"
    }
   ],
   "source": [
    "compute_cost(X_train, y_train, w_init, b_init)"
   ]
  },
  {
   "cell_type": "markdown",
   "id": "ecdcd122-0707-4f6b-b5ca-d03e6d0c7d12",
   "metadata": {},
   "source": [
    "## Gradient Descent with Multiple Variables"
   ]
  },
  {
   "cell_type": "code",
   "execution_count": 33,
   "id": "c712c3ba-bf86-483d-a592-b56ab519a397",
   "metadata": {},
   "outputs": [],
   "source": [
    "def compute_gradient(X, y, w, b): \n",
    "    m,n = X.shape           #(number of examples, number of features)\n",
    "    dj_dw = np.zeros((n,))\n",
    "    dj_db = 0.\n",
    "\n",
    "    for i in range(m):                             \n",
    "        err = (np.dot(X[i], w) + b) - y[i]   \n",
    "        for j in range(n):                         \n",
    "            dj_dw[j] = dj_dw[j] + err * X[i, j]    \n",
    "        dj_db = dj_db + err                        \n",
    "    dj_dw = dj_dw / m                                \n",
    "    dj_db = dj_db / m                                \n",
    "        \n",
    "    return dj_db, dj_dw"
   ]
  },
  {
   "cell_type": "code",
   "execution_count": 34,
   "id": "4aaf9d07-0d64-4cc8-bab1-8c085c861daf",
   "metadata": {},
   "outputs": [],
   "source": [
    "def gradient_descent(X, y, w_in, b_in, cost_function, gradient_function, alpha, num_iters): \n",
    "    # An array to store cost J and w's at each iteration primarily for graphing later\n",
    "    J_history = []\n",
    "    w = copy.deepcopy(w_in)  #avoid modifying global w within function\n",
    "    b = b_in\n",
    "    \n",
    "    for i in range(num_iters):\n",
    "\n",
    "        # Calculate the gradient and update the parameters\n",
    "        dj_db,dj_dw = gradient_function(X, y, w, b)   ##None\n",
    "\n",
    "        # Update Parameters using w, b, alpha and gradient\n",
    "        w = w - alpha * dj_dw               ##None\n",
    "        b = b - alpha * dj_db               ##None\n",
    "      \n",
    "        # Save cost J at each iteration\n",
    "        if i<100000:      # prevent resource exhaustion \n",
    "            J_history.append( cost_function(X, y, w, b))\n",
    "\n",
    "        # Print cost every at intervals 10 times or as many iterations if < 10\n",
    "        if i% math.ceil(num_iters / 10) == 0:\n",
    "            print(f\"Iteration {i:4d}: Cost {J_history[-1]:8.2f}   \")\n",
    "        \n",
    "    return w, b, J_history #return final w,b and J history for graphing"
   ]
  },
  {
   "cell_type": "code",
   "execution_count": null,
   "id": "51d38512-87b5-4658-bba9-c7f060fc9732",
   "metadata": {},
   "outputs": [],
   "source": []
  }
 ],
 "metadata": {
  "kernelspec": {
   "display_name": "Python 3 (ipykernel)",
   "language": "python",
   "name": "python3"
  },
  "language_info": {
   "codemirror_mode": {
    "name": "ipython",
    "version": 3
   },
   "file_extension": ".py",
   "mimetype": "text/x-python",
   "name": "python",
   "nbconvert_exporter": "python",
   "pygments_lexer": "ipython3",
   "version": "3.11.7"
  }
 },
 "nbformat": 4,
 "nbformat_minor": 5
}
