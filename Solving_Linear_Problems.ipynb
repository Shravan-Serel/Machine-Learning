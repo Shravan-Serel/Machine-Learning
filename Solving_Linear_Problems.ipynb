{
 "cells": [
  {
   "cell_type": "code",
   "execution_count": 1,
   "id": "f0911b4b-8b05-450f-b9c0-c9af7ed160cb",
   "metadata": {},
   "outputs": [],
   "source": [
    "import numpy as np"
   ]
  },
  {
   "cell_type": "raw",
   "id": "f00b9451-075e-4efd-b70c-824ec84ad71d",
   "metadata": {},
   "source": [
    "###The admission fee at a small fair is $1.50 for children and $4.00 for adults.\n",
    "###Pn a certain day, 2200 people enter the dair and $5050 is collected. How many children\n",
    "###and how many adults attended?\n",
    "### x1 + x2 = 2200\n",
    "### 1.5x1 + 4.0x2 = 5050"
   ]
  },
  {
   "cell_type": "code",
   "execution_count": 5,
   "id": "fa46073c-caad-4faa-b99a-6d47f8d1063c",
   "metadata": {},
   "outputs": [],
   "source": [
    "A = np.array([[1,1],[1.5,4.0]])"
   ]
  },
  {
   "cell_type": "code",
   "execution_count": 6,
   "id": "c32c0a06-cd87-4425-be30-8ff6314b5043",
   "metadata": {},
   "outputs": [],
   "source": [
    "b = np.array([2200, 5050])"
   ]
  },
  {
   "cell_type": "code",
   "execution_count": 12,
   "id": "8acf0c04-aadc-48f7-9221-33f040af0581",
   "metadata": {},
   "outputs": [
    {
     "name": "stdout",
     "output_type": "stream",
     "text": [
      "[1500.  700.]\n"
     ]
    }
   ],
   "source": [
    "x = np.linalg.inv(A) @ b\n",
    "print(x)"
   ]
  },
  {
   "cell_type": "raw",
   "id": "a8c51b2e-0d98-4c95-abc4-b433c909d9b9",
   "metadata": {},
   "source": [
    "#linalg.inv is slow hence use"
   ]
  },
  {
   "cell_type": "code",
   "execution_count": 13,
   "id": "83121026-7c49-461c-bf32-55ec52c5815a",
   "metadata": {},
   "outputs": [
    {
     "name": "stdout",
     "output_type": "stream",
     "text": [
      "[1500.  700.]\n"
     ]
    }
   ],
   "source": [
    "x = np.linalg.solve(A,b)\n",
    "print(x)"
   ]
  },
  {
   "cell_type": "code",
   "execution_count": null,
   "id": "967a5211-8703-4f0f-a18b-6b7dbb678bf3",
   "metadata": {},
   "outputs": [],
   "source": []
  }
 ],
 "metadata": {
  "kernelspec": {
   "display_name": "Python 3 (ipykernel)",
   "language": "python",
   "name": "python3"
  },
  "language_info": {
   "codemirror_mode": {
    "name": "ipython",
    "version": 3
   },
   "file_extension": ".py",
   "mimetype": "text/x-python",
   "name": "python",
   "nbconvert_exporter": "python",
   "pygments_lexer": "ipython3",
   "version": "3.11.7"
  }
 },
 "nbformat": 4,
 "nbformat_minor": 5
}
